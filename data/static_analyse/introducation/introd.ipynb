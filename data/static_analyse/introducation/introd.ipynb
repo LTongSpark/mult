{
 "cells": [
  {
   "cell_type": "code",
   "execution_count": 8,
   "metadata": {
    "collapsed": true,
    "pycharm": {
     "is_executing": false,
     "name": "#%%\n"
    }
   },
   "outputs": [],
   "source": [
    "import pandas as pd\n",
    "import numpy as np"
   ]
  },
  {
   "cell_type": "markdown",
   "source": [
    "加载数据"
   ],
   "metadata": {
    "collapsed": false,
    "pycharm": {
     "name": "#%% md\n"
    }
   }
  },
  {
   "cell_type": "code",
   "execution_count": 12,
   "outputs": [
    {
     "data": {
      "text/plain": "   transID  cumid              time  amount type_label    type\n0     9407  10001  14JUN09:17:58:34   199.0         正常  Normal\n1     9625  10001  16JUN09:15:09:13   369.0         正常  Normal\n2    11837  10001  01JUL09:14:50:36   369.0         正常  Normal\n3    26629  10001  14DEC09:18:05:32   359.0         正常  Normal\n4    30850  10001  12APR10:13:02:20   399.0         正常  Normal",
      "text/html": "<div>\n<style scoped>\n    .dataframe tbody tr th:only-of-type {\n        vertical-align: middle;\n    }\n\n    .dataframe tbody tr th {\n        vertical-align: top;\n    }\n\n    .dataframe thead th {\n        text-align: right;\n    }\n</style>\n<table border=\"1\" class=\"dataframe\">\n  <thead>\n    <tr style=\"text-align: right;\">\n      <th></th>\n      <th>transID</th>\n      <th>cumid</th>\n      <th>time</th>\n      <th>amount</th>\n      <th>type_label</th>\n      <th>type</th>\n    </tr>\n  </thead>\n  <tbody>\n    <tr>\n      <th>0</th>\n      <td>9407</td>\n      <td>10001</td>\n      <td>14JUN09:17:58:34</td>\n      <td>199.0</td>\n      <td>正常</td>\n      <td>Normal</td>\n    </tr>\n    <tr>\n      <th>1</th>\n      <td>9625</td>\n      <td>10001</td>\n      <td>16JUN09:15:09:13</td>\n      <td>369.0</td>\n      <td>正常</td>\n      <td>Normal</td>\n    </tr>\n    <tr>\n      <th>2</th>\n      <td>11837</td>\n      <td>10001</td>\n      <td>01JUL09:14:50:36</td>\n      <td>369.0</td>\n      <td>正常</td>\n      <td>Normal</td>\n    </tr>\n    <tr>\n      <th>3</th>\n      <td>26629</td>\n      <td>10001</td>\n      <td>14DEC09:18:05:32</td>\n      <td>359.0</td>\n      <td>正常</td>\n      <td>Normal</td>\n    </tr>\n    <tr>\n      <th>4</th>\n      <td>30850</td>\n      <td>10001</td>\n      <td>12APR10:13:02:20</td>\n      <td>399.0</td>\n      <td>正常</td>\n      <td>Normal</td>\n    </tr>\n  </tbody>\n</table>\n</div>"
     },
     "metadata": {},
     "output_type": "execute_result",
     "execution_count": 12
    }
   ],
   "source": [
    "data = pd.read_csv(\"RFM_TRAD_FLOW.csv\",encoding=\"gbk\")\n",
    "data.head()"
   ],
   "metadata": {
    "collapsed": false,
    "pycharm": {
     "name": "#%%\n",
     "is_executing": false
    }
   }
  },
  {
   "cell_type": "code",
   "execution_count": 15,
   "outputs": [
    {
     "data": {
      "text/plain": "cumid  type          \n10001  Normal            15\n       Presented          8\n       Special_offer      2\n       returned_goods     2\n10002  Normal            12\n       Presented          5\n       returned_goods     1\n10003  Normal            15\n       Presented          8\n       Special_offer      1\n       returned_goods     1\n10004  Normal            15\n       Presented         12\n       Special_offer      2\n       returned_goods     1\n10005  Normal             8\n       Presented          5\n       returned_goods     1\n10006  Normal            10\n       Presented          3\n       Special_offer      1\n       returned_goods     3\n10007  Normal            15\n       Presented          9\n       Special_offer      1\n       returned_goods     1\n10008  Normal            17\n       Presented         12\n       Special_offer      3\n       returned_goods     3\n                         ..\n40292  returned_goods     1\n40293  Normal            21\n       Presented          7\n       Special_offer      3\n       returned_goods     1\n40294  Normal            16\n       Presented          5\n       Special_offer      1\n40295  Normal            16\n       Presented          6\n       Special_offer      1\n       returned_goods     1\n40296  Normal            13\n       Presented          6\n       Special_offer      1\n       returned_goods     1\n40297  Normal            17\n       Presented         10\n       Special_offer      5\n       returned_goods     2\n40298  Normal            10\n       Presented          9\n       Special_offer      4\n40299  Normal            16\n       Presented         11\n       Special_offer      1\n40300  Normal            10\n       Presented          6\n       Special_offer      1\n       returned_goods     3\nName: transID, Length: 4023, dtype: int64"
     },
     "metadata": {},
     "output_type": "execute_result",
     "execution_count": 15
    }
   ],
   "source": [
    "F = data.groupby(['cumid' ,'type'])['transID'].count()\n",
    "F"
   ],
   "metadata": {
    "collapsed": false,
    "pycharm": {
     "name": "#%%\n",
     "is_executing": false
    }
   }
  },
  {
   "cell_type": "code",
   "execution_count": 20,
   "outputs": [
    {
     "data": {
      "text/plain": "type         Normal     Presented  Special_offer  returned_goods\ncumid                                                           \n10001  30462.733333  41307.375000   24765.500000    39963.500000\n10002  26264.750000  31908.800000            NaN    21160.000000\n10003  27917.066667  34653.500000   27268.000000    36991.000000\n10004  23732.666667  35420.583333   21925.500000    36539.000000\n10005  27377.250000  38828.600000            NaN    30665.000000\n10006  24442.100000  39767.000000   23351.000000    14650.666667\n10007  31756.133333  39624.888889   19021.000000    31412.000000\n10008  31643.941176  26646.166667   22478.666667    40069.333333\n10009  25081.076923  38997.000000            NaN    22930.000000\n10010  33193.625000  36966.000000   24071.333333             NaN\n10011  22681.625000  36836.000000   20864.000000             NaN\n10012  25666.529412  36719.714286   21047.666667             NaN\n10013  21124.666667  36515.714286   20568.000000    10293.000000\n10014  28790.631579  42022.714286   19791.333333    24582.000000\n10015  25564.000000  34734.250000   24761.000000    39607.000000\n10016  26109.933333  27921.000000   24146.000000    35988.000000\n10017  21770.181818  35558.333333   23420.000000    25979.000000\n10018  23030.300000  31820.000000            NaN             NaN\n10019  23408.642857  36237.750000   19502.500000             NaN\n10020  27212.000000  30956.000000            NaN    27755.000000\n10021  33473.461538  42249.714286   24282.000000    26436.000000\n10022  19494.818182  40191.571429   18999.000000             NaN\n10023  30225.875000  41852.875000   24440.000000             NaN\n10024  27101.000000  31936.500000   21010.333333             NaN\n10025  27261.600000  40473.800000   22019.500000             NaN\n10026  26096.857143  37161.777778   19711.000000    21958.000000\n10027  23260.000000  37089.500000   23877.000000    23311.000000\n10028  39375.857143  39992.857143   19970.500000    15493.000000\n10029  27158.210526  34028.818182   18611.000000    13300.000000\n10030  29349.636364  33219.166667   23338.000000    35531.500000\n...             ...           ...            ...             ...\n40271  30368.000000  40263.000000   22690.333333    21155.000000\n40272  31502.333333  30878.500000            NaN    14806.000000\n40273  26226.764706  39077.142857            NaN    50835.000000\n40274  23749.571429  35644.444444   22954.000000    10849.000000\n40275  31864.100000  36869.500000   19986.000000    31559.000000\n40276  25635.416667  34993.428571   24100.500000    40224.000000\n40277  26029.222222  45728.500000   20187.000000    41287.000000\n40278  25133.764706  38326.750000            NaN             NaN\n40279  32601.000000  44726.000000   19256.000000    16293.000000\n40280  21500.500000  31151.428571   22471.000000             NaN\n40281  32837.944444  30961.000000            NaN             NaN\n40282  25994.636364  39068.900000   22352.000000    44892.000000\n40283  25317.437500  37072.666667            NaN    52889.000000\n40284  27199.933333  39429.500000   21206.333333             NaN\n40285  26815.312500  36613.307692   25928.000000             NaN\n40286  26194.428571  35255.250000   22074.000000    14890.000000\n40287  30127.545455  33616.500000   18920.000000    25656.500000\n40288  25545.818182  31543.166667            NaN    24230.000000\n40289  29736.739130  33346.375000   24788.000000    42419.500000\n40290  32289.090909  29294.111111   24550.000000             NaN\n40291  25629.277778  29570.818182   24935.000000             NaN\n40292  27215.562500  38900.600000   24335.000000     7879.000000\n40293  30578.000000  39150.142857   21657.666667    23309.000000\n40294  25819.187500  35851.200000   24785.000000             NaN\n40295  26148.375000  41299.666667   23798.000000    45610.000000\n40296  28492.384615  35388.333333   20673.000000    41089.000000\n40297  32660.529412  32466.000000   23070.600000    28421.000000\n40298  28623.200000  35617.666667   24331.250000             NaN\n40299  26982.812500  40451.636364   20157.000000             NaN\n40300  28245.300000  29562.166667   24730.000000    21039.000000\n\n[1200 rows x 4 columns]",
      "text/html": "<div>\n<style scoped>\n    .dataframe tbody tr th:only-of-type {\n        vertical-align: middle;\n    }\n\n    .dataframe tbody tr th {\n        vertical-align: top;\n    }\n\n    .dataframe thead th {\n        text-align: right;\n    }\n</style>\n<table border=\"1\" class=\"dataframe\">\n  <thead>\n    <tr style=\"text-align: right;\">\n      <th>type</th>\n      <th>Normal</th>\n      <th>Presented</th>\n      <th>Special_offer</th>\n      <th>returned_goods</th>\n    </tr>\n    <tr>\n      <th>cumid</th>\n      <th></th>\n      <th></th>\n      <th></th>\n      <th></th>\n    </tr>\n  </thead>\n  <tbody>\n    <tr>\n      <th>10001</th>\n      <td>30462.733333</td>\n      <td>41307.375000</td>\n      <td>24765.500000</td>\n      <td>39963.500000</td>\n    </tr>\n    <tr>\n      <th>10002</th>\n      <td>26264.750000</td>\n      <td>31908.800000</td>\n      <td>NaN</td>\n      <td>21160.000000</td>\n    </tr>\n    <tr>\n      <th>10003</th>\n      <td>27917.066667</td>\n      <td>34653.500000</td>\n      <td>27268.000000</td>\n      <td>36991.000000</td>\n    </tr>\n    <tr>\n      <th>10004</th>\n      <td>23732.666667</td>\n      <td>35420.583333</td>\n      <td>21925.500000</td>\n      <td>36539.000000</td>\n    </tr>\n    <tr>\n      <th>10005</th>\n      <td>27377.250000</td>\n      <td>38828.600000</td>\n      <td>NaN</td>\n      <td>30665.000000</td>\n    </tr>\n    <tr>\n      <th>10006</th>\n      <td>24442.100000</td>\n      <td>39767.000000</td>\n      <td>23351.000000</td>\n      <td>14650.666667</td>\n    </tr>\n    <tr>\n      <th>10007</th>\n      <td>31756.133333</td>\n      <td>39624.888889</td>\n      <td>19021.000000</td>\n      <td>31412.000000</td>\n    </tr>\n    <tr>\n      <th>10008</th>\n      <td>31643.941176</td>\n      <td>26646.166667</td>\n      <td>22478.666667</td>\n      <td>40069.333333</td>\n    </tr>\n    <tr>\n      <th>10009</th>\n      <td>25081.076923</td>\n      <td>38997.000000</td>\n      <td>NaN</td>\n      <td>22930.000000</td>\n    </tr>\n    <tr>\n      <th>10010</th>\n      <td>33193.625000</td>\n      <td>36966.000000</td>\n      <td>24071.333333</td>\n      <td>NaN</td>\n    </tr>\n    <tr>\n      <th>10011</th>\n      <td>22681.625000</td>\n      <td>36836.000000</td>\n      <td>20864.000000</td>\n      <td>NaN</td>\n    </tr>\n    <tr>\n      <th>10012</th>\n      <td>25666.529412</td>\n      <td>36719.714286</td>\n      <td>21047.666667</td>\n      <td>NaN</td>\n    </tr>\n    <tr>\n      <th>10013</th>\n      <td>21124.666667</td>\n      <td>36515.714286</td>\n      <td>20568.000000</td>\n      <td>10293.000000</td>\n    </tr>\n    <tr>\n      <th>10014</th>\n      <td>28790.631579</td>\n      <td>42022.714286</td>\n      <td>19791.333333</td>\n      <td>24582.000000</td>\n    </tr>\n    <tr>\n      <th>10015</th>\n      <td>25564.000000</td>\n      <td>34734.250000</td>\n      <td>24761.000000</td>\n      <td>39607.000000</td>\n    </tr>\n    <tr>\n      <th>10016</th>\n      <td>26109.933333</td>\n      <td>27921.000000</td>\n      <td>24146.000000</td>\n      <td>35988.000000</td>\n    </tr>\n    <tr>\n      <th>10017</th>\n      <td>21770.181818</td>\n      <td>35558.333333</td>\n      <td>23420.000000</td>\n      <td>25979.000000</td>\n    </tr>\n    <tr>\n      <th>10018</th>\n      <td>23030.300000</td>\n      <td>31820.000000</td>\n      <td>NaN</td>\n      <td>NaN</td>\n    </tr>\n    <tr>\n      <th>10019</th>\n      <td>23408.642857</td>\n      <td>36237.750000</td>\n      <td>19502.500000</td>\n      <td>NaN</td>\n    </tr>\n    <tr>\n      <th>10020</th>\n      <td>27212.000000</td>\n      <td>30956.000000</td>\n      <td>NaN</td>\n      <td>27755.000000</td>\n    </tr>\n    <tr>\n      <th>10021</th>\n      <td>33473.461538</td>\n      <td>42249.714286</td>\n      <td>24282.000000</td>\n      <td>26436.000000</td>\n    </tr>\n    <tr>\n      <th>10022</th>\n      <td>19494.818182</td>\n      <td>40191.571429</td>\n      <td>18999.000000</td>\n      <td>NaN</td>\n    </tr>\n    <tr>\n      <th>10023</th>\n      <td>30225.875000</td>\n      <td>41852.875000</td>\n      <td>24440.000000</td>\n      <td>NaN</td>\n    </tr>\n    <tr>\n      <th>10024</th>\n      <td>27101.000000</td>\n      <td>31936.500000</td>\n      <td>21010.333333</td>\n      <td>NaN</td>\n    </tr>\n    <tr>\n      <th>10025</th>\n      <td>27261.600000</td>\n      <td>40473.800000</td>\n      <td>22019.500000</td>\n      <td>NaN</td>\n    </tr>\n    <tr>\n      <th>10026</th>\n      <td>26096.857143</td>\n      <td>37161.777778</td>\n      <td>19711.000000</td>\n      <td>21958.000000</td>\n    </tr>\n    <tr>\n      <th>10027</th>\n      <td>23260.000000</td>\n      <td>37089.500000</td>\n      <td>23877.000000</td>\n      <td>23311.000000</td>\n    </tr>\n    <tr>\n      <th>10028</th>\n      <td>39375.857143</td>\n      <td>39992.857143</td>\n      <td>19970.500000</td>\n      <td>15493.000000</td>\n    </tr>\n    <tr>\n      <th>10029</th>\n      <td>27158.210526</td>\n      <td>34028.818182</td>\n      <td>18611.000000</td>\n      <td>13300.000000</td>\n    </tr>\n    <tr>\n      <th>10030</th>\n      <td>29349.636364</td>\n      <td>33219.166667</td>\n      <td>23338.000000</td>\n      <td>35531.500000</td>\n    </tr>\n    <tr>\n      <th>...</th>\n      <td>...</td>\n      <td>...</td>\n      <td>...</td>\n      <td>...</td>\n    </tr>\n    <tr>\n      <th>40271</th>\n      <td>30368.000000</td>\n      <td>40263.000000</td>\n      <td>22690.333333</td>\n      <td>21155.000000</td>\n    </tr>\n    <tr>\n      <th>40272</th>\n      <td>31502.333333</td>\n      <td>30878.500000</td>\n      <td>NaN</td>\n      <td>14806.000000</td>\n    </tr>\n    <tr>\n      <th>40273</th>\n      <td>26226.764706</td>\n      <td>39077.142857</td>\n      <td>NaN</td>\n      <td>50835.000000</td>\n    </tr>\n    <tr>\n      <th>40274</th>\n      <td>23749.571429</td>\n      <td>35644.444444</td>\n      <td>22954.000000</td>\n      <td>10849.000000</td>\n    </tr>\n    <tr>\n      <th>40275</th>\n      <td>31864.100000</td>\n      <td>36869.500000</td>\n      <td>19986.000000</td>\n      <td>31559.000000</td>\n    </tr>\n    <tr>\n      <th>40276</th>\n      <td>25635.416667</td>\n      <td>34993.428571</td>\n      <td>24100.500000</td>\n      <td>40224.000000</td>\n    </tr>\n    <tr>\n      <th>40277</th>\n      <td>26029.222222</td>\n      <td>45728.500000</td>\n      <td>20187.000000</td>\n      <td>41287.000000</td>\n    </tr>\n    <tr>\n      <th>40278</th>\n      <td>25133.764706</td>\n      <td>38326.750000</td>\n      <td>NaN</td>\n      <td>NaN</td>\n    </tr>\n    <tr>\n      <th>40279</th>\n      <td>32601.000000</td>\n      <td>44726.000000</td>\n      <td>19256.000000</td>\n      <td>16293.000000</td>\n    </tr>\n    <tr>\n      <th>40280</th>\n      <td>21500.500000</td>\n      <td>31151.428571</td>\n      <td>22471.000000</td>\n      <td>NaN</td>\n    </tr>\n    <tr>\n      <th>40281</th>\n      <td>32837.944444</td>\n      <td>30961.000000</td>\n      <td>NaN</td>\n      <td>NaN</td>\n    </tr>\n    <tr>\n      <th>40282</th>\n      <td>25994.636364</td>\n      <td>39068.900000</td>\n      <td>22352.000000</td>\n      <td>44892.000000</td>\n    </tr>\n    <tr>\n      <th>40283</th>\n      <td>25317.437500</td>\n      <td>37072.666667</td>\n      <td>NaN</td>\n      <td>52889.000000</td>\n    </tr>\n    <tr>\n      <th>40284</th>\n      <td>27199.933333</td>\n      <td>39429.500000</td>\n      <td>21206.333333</td>\n      <td>NaN</td>\n    </tr>\n    <tr>\n      <th>40285</th>\n      <td>26815.312500</td>\n      <td>36613.307692</td>\n      <td>25928.000000</td>\n      <td>NaN</td>\n    </tr>\n    <tr>\n      <th>40286</th>\n      <td>26194.428571</td>\n      <td>35255.250000</td>\n      <td>22074.000000</td>\n      <td>14890.000000</td>\n    </tr>\n    <tr>\n      <th>40287</th>\n      <td>30127.545455</td>\n      <td>33616.500000</td>\n      <td>18920.000000</td>\n      <td>25656.500000</td>\n    </tr>\n    <tr>\n      <th>40288</th>\n      <td>25545.818182</td>\n      <td>31543.166667</td>\n      <td>NaN</td>\n      <td>24230.000000</td>\n    </tr>\n    <tr>\n      <th>40289</th>\n      <td>29736.739130</td>\n      <td>33346.375000</td>\n      <td>24788.000000</td>\n      <td>42419.500000</td>\n    </tr>\n    <tr>\n      <th>40290</th>\n      <td>32289.090909</td>\n      <td>29294.111111</td>\n      <td>24550.000000</td>\n      <td>NaN</td>\n    </tr>\n    <tr>\n      <th>40291</th>\n      <td>25629.277778</td>\n      <td>29570.818182</td>\n      <td>24935.000000</td>\n      <td>NaN</td>\n    </tr>\n    <tr>\n      <th>40292</th>\n      <td>27215.562500</td>\n      <td>38900.600000</td>\n      <td>24335.000000</td>\n      <td>7879.000000</td>\n    </tr>\n    <tr>\n      <th>40293</th>\n      <td>30578.000000</td>\n      <td>39150.142857</td>\n      <td>21657.666667</td>\n      <td>23309.000000</td>\n    </tr>\n    <tr>\n      <th>40294</th>\n      <td>25819.187500</td>\n      <td>35851.200000</td>\n      <td>24785.000000</td>\n      <td>NaN</td>\n    </tr>\n    <tr>\n      <th>40295</th>\n      <td>26148.375000</td>\n      <td>41299.666667</td>\n      <td>23798.000000</td>\n      <td>45610.000000</td>\n    </tr>\n    <tr>\n      <th>40296</th>\n      <td>28492.384615</td>\n      <td>35388.333333</td>\n      <td>20673.000000</td>\n      <td>41089.000000</td>\n    </tr>\n    <tr>\n      <th>40297</th>\n      <td>32660.529412</td>\n      <td>32466.000000</td>\n      <td>23070.600000</td>\n      <td>28421.000000</td>\n    </tr>\n    <tr>\n      <th>40298</th>\n      <td>28623.200000</td>\n      <td>35617.666667</td>\n      <td>24331.250000</td>\n      <td>NaN</td>\n    </tr>\n    <tr>\n      <th>40299</th>\n      <td>26982.812500</td>\n      <td>40451.636364</td>\n      <td>20157.000000</td>\n      <td>NaN</td>\n    </tr>\n    <tr>\n      <th>40300</th>\n      <td>28245.300000</td>\n      <td>29562.166667</td>\n      <td>24730.000000</td>\n      <td>21039.000000</td>\n    </tr>\n  </tbody>\n</table>\n<p>1200 rows × 4 columns</p>\n</div>"
     },
     "metadata": {},
     "output_type": "execute_result",
     "execution_count": 20
    }
   ],
   "source": [
    "F_trans = pd.pivot_table(data,index='cumid' ,columns='type' ,values='transID')\n",
    "F_trans"
   ],
   "metadata": {
    "collapsed": false,
    "pycharm": {
     "name": "#%%\n",
     "is_executing": false
    }
   }
  },
  {
   "cell_type": "code",
   "execution_count": 22,
   "outputs": [
    {
     "name": "stdout",
     "text": [
      "<class 'pandas.core.frame.DataFrame'>\nInt64Index: 1200 entries, 10001 to 40300\nData columns (total 4 columns):\nNormal            1200 non-null float64\nPresented         1200 non-null float64\nSpecial_offer     927 non-null float64\nreturned_goods    696 non-null float64\ndtypes: float64(4)\nmemory usage: 46.9 KB\n"
     ],
     "output_type": "stream"
    }
   ],
   "source": [
    "F_trans.info()"
   ],
   "metadata": {
    "collapsed": false,
    "pycharm": {
     "name": "#%%\n",
     "is_executing": false
    }
   }
  },
  {
   "cell_type": "code",
   "execution_count": 26,
   "outputs": [],
   "source": [
    "F_trans['Special_offer'].fillna(0 ,inplace=True)"
   ],
   "metadata": {
    "collapsed": false,
    "pycharm": {
     "name": "#%%\n",
     "is_executing": false
    }
   }
  },
  {
   "cell_type": "code",
   "execution_count": 27,
   "outputs": [
    {
     "name": "stdout",
     "text": [
      "<class 'pandas.core.frame.DataFrame'>\nInt64Index: 1200 entries, 10001 to 40300\nData columns (total 4 columns):\nNormal            1200 non-null float64\nPresented         1200 non-null float64\nSpecial_offer     1200 non-null float64\nreturned_goods    696 non-null float64\ndtypes: float64(4)\nmemory usage: 46.9 KB\n"
     ],
     "output_type": "stream"
    }
   ],
   "source": [
    "F_trans.info()"
   ],
   "metadata": {
    "collapsed": false,
    "pycharm": {
     "name": "#%%\n",
     "is_executing": false
    }
   }
  },
  {
   "cell_type": "code",
   "execution_count": 28,
   "outputs": [],
   "source": [
    "F_trans['returned_goods'].fillna(0,inplace=True)"
   ],
   "metadata": {
    "collapsed": false,
    "pycharm": {
     "name": "#%%\n",
     "is_executing": false
    }
   }
  },
  {
   "cell_type": "code",
   "execution_count": 29,
   "outputs": [
    {
     "data": {
      "text/plain": "type         Normal     Presented  Special_offer  returned_goods  interest\ncumid                                                                     \n10001  30462.733333  41307.375000        24765.5         39963.5  0.448421\n10002  26264.750000  31908.800000            0.0         21160.0  0.000000\n10003  27917.066667  34653.500000        27268.0         36991.0  0.494119\n10004  23732.666667  35420.583333        21925.5         36539.0  0.480210\n10005  27377.250000  38828.600000            0.0         30665.0  0.000000",
      "text/html": "<div>\n<style scoped>\n    .dataframe tbody tr th:only-of-type {\n        vertical-align: middle;\n    }\n\n    .dataframe tbody tr th {\n        vertical-align: top;\n    }\n\n    .dataframe thead th {\n        text-align: right;\n    }\n</style>\n<table border=\"1\" class=\"dataframe\">\n  <thead>\n    <tr style=\"text-align: right;\">\n      <th>type</th>\n      <th>Normal</th>\n      <th>Presented</th>\n      <th>Special_offer</th>\n      <th>returned_goods</th>\n      <th>interest</th>\n    </tr>\n    <tr>\n      <th>cumid</th>\n      <th></th>\n      <th></th>\n      <th></th>\n      <th></th>\n      <th></th>\n    </tr>\n  </thead>\n  <tbody>\n    <tr>\n      <th>10001</th>\n      <td>30462.733333</td>\n      <td>41307.375000</td>\n      <td>24765.5</td>\n      <td>39963.5</td>\n      <td>0.448421</td>\n    </tr>\n    <tr>\n      <th>10002</th>\n      <td>26264.750000</td>\n      <td>31908.800000</td>\n      <td>0.0</td>\n      <td>21160.0</td>\n      <td>0.000000</td>\n    </tr>\n    <tr>\n      <th>10003</th>\n      <td>27917.066667</td>\n      <td>34653.500000</td>\n      <td>27268.0</td>\n      <td>36991.0</td>\n      <td>0.494119</td>\n    </tr>\n    <tr>\n      <th>10004</th>\n      <td>23732.666667</td>\n      <td>35420.583333</td>\n      <td>21925.5</td>\n      <td>36539.0</td>\n      <td>0.480210</td>\n    </tr>\n    <tr>\n      <th>10005</th>\n      <td>27377.250000</td>\n      <td>38828.600000</td>\n      <td>0.0</td>\n      <td>30665.0</td>\n      <td>0.000000</td>\n    </tr>\n  </tbody>\n</table>\n</div>"
     },
     "metadata": {},
     "output_type": "execute_result",
     "execution_count": 29
    }
   ],
   "source": [
    "F_trans['interest'] = F_trans['Special_offer'] / (F_trans['Special_offer'] + F_trans['Normal'])\n",
    "F_trans.head()"
   ],
   "metadata": {
    "collapsed": false,
    "pycharm": {
     "name": "#%%\n",
     "is_executing": false
    }
   }
  },
  {
   "cell_type": "code",
   "execution_count": null,
   "outputs": [],
   "source": [
    "\n",
    "\n"
   ],
   "metadata": {
    "collapsed": false,
    "pycharm": {
     "name": "#%%\n"
    }
   }
  }
 ],
 "metadata": {
  "language_info": {
   "codemirror_mode": {
    "name": "ipython",
    "version": 2
   },
   "file_extension": ".py",
   "mimetype": "text/x-python",
   "name": "python",
   "nbconvert_exporter": "python",
   "pygments_lexer": "ipython2",
   "version": "2.7.6"
  },
  "kernelspec": {
   "name": "python3",
   "language": "python",
   "display_name": "Python 3"
  },
  "pycharm": {
   "stem_cell": {
    "cell_type": "raw",
    "source": [],
    "metadata": {
     "collapsed": false
    }
   }
  }
 },
 "nbformat": 4,
 "nbformat_minor": 0
}